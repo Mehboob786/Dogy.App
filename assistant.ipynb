{
 "cells": [
  {
   "cell_type": "code",
   "execution_count": 8,
   "metadata": {},
   "outputs": [
    {
     "data": {
      "text/plain": [
       "True"
      ]
     },
     "execution_count": 8,
     "metadata": {},
     "output_type": "execute_result"
    }
   ],
   "source": [
    "from dotenv import load_dotenv\n",
    "load_dotenv()"
   ]
  },
  {
   "cell_type": "code",
   "execution_count": 11,
   "metadata": {},
   "outputs": [],
   "source": [
    "import os\n",
    "from openai import OpenAI\n",
    "api_key = os.getenv('OPENAI_API_KEY')\n",
    "client = OpenAI(api_key=api_key)"
   ]
  },
  {
   "cell_type": "code",
   "execution_count": null,
   "metadata": {},
   "outputs": [],
   "source": [
    "\n",
    "\"\"\"\n",
    "# MISSION\n",
    "To empower dog owners with expert guidance and tools for improving their dogs' training, behavior, and overall care, fostering a harmonious and enriching relationship between dogs and their owners through specialized education, tailored training plans, and engaging mental stimulation activities.\n",
    "#agents #training \n",
    "# GOAL\n",
    "Integrate a suite of functionalities designed to offer mental stimulation, create personalized training strategies, solve behavioral problems, and provide comprehensive education on responsible pet ownership.\n",
    "\n",
    "# TASKS\n",
    "\n",
    "1. **Mental Stimulation Activity Development**: Devise and recommend mental stimulation activities and games, specifically tailored to suit different dog breeds and their varying energy levels.\n",
    "2. **Custom Training Plan Formulation**: Craft individualized training routines aimed at meeting specific behavioral goals, considering each dog's unique needs and characteristics.\n",
    "3. **Behavioral Issue Resolution**: Offer effective solutions and advice for addressing common behavioral challenges, drawing on detailed inputs from dog owners.\n",
    "4. **Personalized Care and Training Advice**: Generate customized guidance covering key aspects of dog care, including nutrition, behavior, training, and general wellness, tailored to the distinct profiles of each dog.\n",
    "5. **Responsible Dog Ownership Education**: Educate dog owners on the essentials of responsible dog care, especially in urban environments, focusing on aspects such as leash laws and etiquette in public spaces.\n",
    "# OUTPUT FORMAT\n",
    "\n",
    "### TYPE OF OUTPUT\n",
    "\n",
    "- **Customized Training and Behavior Plans**: Provide comprehensive, tailored training routines and behavior modification strategies for individual dogs.\n",
    "- **Informative Care and Training Resources**: Offer a range of educational materials and resources focusing on dog behavior, care, and effective training techniques.\n",
    "- **Personalized Activity and Solution Recommendations**: Deliver bespoke suggestions for mental stimulation and practical solutions to behavioral issues.\n",
    "\n",
    "# RULES\n",
    "\n",
    "1. **Initial Dog Information Collection**: Systematically gather crucial information about each dog, including breed, age, current behavior, and specific challenges, before offering training advice.\n",
    "2. **Adherence to Proven Training Standards**: Consistently follow established training knowledge bases and guidelines to ensure reliable and effective advice.\n",
    "3. **Promotion of Positive Training Methods**: Strongly favor and recommend positive reinforcement training techniques, avoiding the use of crate training or firm disciplinary approaches.\n",
    "4. **Commitment to Inclusive Communication**: Ensure communication is inclusive, respectful, and sensitive to the diverse experiences of dog owners and breeds.\n",
    "5. **Focus on Safety and Well-being**: Prioritize the safety and well-being of dogs and their owners in all training and behavioral recommendations.\n",
    "6. **Recommendation of Professional Assistance**: Encourage seeking professional help for complex or challenging behavioral issues, underscoring the importance of expert input.\n",
    "7. **Responsive Adaptation to User Feedback**: Continuously evolve and refine methodologies based on user feedback, enhancing the relevance and effectiveness of the advice and resources provided.\n",
    "\n",
    "\n",
    "# Abilities\n",
    "dalle,browser,python,\n",
    "\"\"\""
   ]
  },
  {
   "cell_type": "code",
   "execution_count": 22,
   "metadata": {},
   "outputs": [],
   "source": [
    "\n",
    "# assistant = client.beta.assistants.create(\n",
    "#     name=\"Math Tutor\",\n",
    "#     instructions=\"You are a personal math tutor. Write and run code to answer math questions.\",\n",
    "#     tools=[{\"type\": \"code_interpreter\"}],\n",
    "#     model=\"gpt-4-turbo-preview\"\n",
    "# )\n",
    "\n",
    "assistant = client.beta.assistants.create(\n",
    "  instructions=\"You are a customer support chatbot. Use your knowledge base to best respond to customer queries.\",\n",
    "  model=\"gpt-4-turbo-preview\",\n",
    "  tools=[{\"type\": \"retrieval\"}]\n",
    ")"
   ]
  },
  {
   "cell_type": "code",
   "execution_count": 25,
   "metadata": {},
   "outputs": [],
   "source": [
    "\n",
    "file = client.files.create(\n",
    "  file=open(\"Puppy_training.pdf\", \"rb\"),\n",
    "  purpose='assistants'\n",
    ")\n",
    "\n",
    "# Add the file to the assistant\n",
    "assistant = client.beta.assistants.create(\n",
    "  instructions=\"You are a customer support chatbot. Use your knowledge base to best respond to customer queries.\",\n",
    "  model=\"gpt-4-turbo-preview\",\n",
    "  tools=[{\"type\": \"retrieval\"}],\n",
    "  file_ids=[file.id]\n",
    ")"
   ]
  },
  {
   "cell_type": "code",
   "execution_count": 31,
   "metadata": {},
   "outputs": [
    {
     "name": "stdout",
     "output_type": "stream",
     "text": [
      "[MessageContentText(text=Text(annotations=[], value='I can not find in the PDF manual how to turn off this device.'), type='text')]\n"
     ]
    }
   ],
   "source": [
    "thread = client.beta.threads.create()\n",
    "message = client.beta.threads.messages.create(\n",
    "  thread_id=thread.id,\n",
    "  role=\"user\", # or \"assistant\"\n",
    "  content=\"I can not find in the PDF manual how to turn off this device.\",\n",
    "  file_ids=[file.id]\n",
    ")\n",
    "print(message.content)"
   ]
  },
  {
   "cell_type": "code",
   "execution_count": 13,
   "metadata": {},
   "outputs": [],
   "source": []
  },
  {
   "cell_type": "code",
   "execution_count": 27,
   "metadata": {},
   "outputs": [],
   "source": [
    "run = client.beta.threads.runs.create(\n",
    "  thread_id=thread.id,\n",
    "  assistant_id=assistant.id,\n",
    "  instructions=\"Please address the user as Jane Doe. The user has a premium account.\"\n",
    ")"
   ]
  },
  {
   "cell_type": "code",
   "execution_count": 28,
   "metadata": {},
   "outputs": [],
   "source": [
    "run = client.beta.threads.runs.retrieve(\n",
    "  thread_id=thread.id,\n",
    "  run_id=run.id\n",
    ")"
   ]
  },
  {
   "cell_type": "code",
   "execution_count": 29,
   "metadata": {},
   "outputs": [],
   "source": [
    "messages = client.beta.threads.messages.list(\n",
    "  thread_id=thread.id\n",
    ")"
   ]
  },
  {
   "cell_type": "code",
   "execution_count": 30,
   "metadata": {},
   "outputs": [
    {
     "name": "stdout",
     "output_type": "stream",
     "text": [
      "ThreadMessage(id='msg_rApUEPdf82AzdMqVXYKzvXZY', assistant_id=None, content=[MessageContentText(text=Text(annotations=[], value='I can not find in the PDF manual how to turn off this device.'), type='text')], created_at=1708449329, file_ids=['file-zcFiB8Hn2RGcxAsqh3gEfoMN'], metadata={}, object='thread.message', role='user', run_id=None, thread_id='thread_cNK24LqFwUax9MrUbmfJGs5c')\n"
     ]
    }
   ],
   "source": [
    "print(message)\n"
   ]
  },
  {
   "cell_type": "code",
   "execution_count": null,
   "metadata": {},
   "outputs": [],
   "source": []
  }
 ],
 "metadata": {
  "kernelspec": {
   "display_name": "dogy-assistant-openai-EDd_t4oZ-py3.10",
   "language": "python",
   "name": "python3"
  },
  "language_info": {
   "codemirror_mode": {
    "name": "ipython",
    "version": 3
   },
   "file_extension": ".py",
   "mimetype": "text/x-python",
   "name": "python",
   "nbconvert_exporter": "python",
   "pygments_lexer": "ipython3",
   "version": "3.10.4"
  }
 },
 "nbformat": 4,
 "nbformat_minor": 2
}
